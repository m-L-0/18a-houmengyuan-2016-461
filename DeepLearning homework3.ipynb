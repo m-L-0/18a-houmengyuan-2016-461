{
 "cells": [
  {
   "cell_type": "markdown",
   "metadata": {},
   "source": [
    "## 1.判断题\n",
    "对 错 对 对 错 错 对 对"
   ]
  },
  {
   "cell_type": "markdown",
   "metadata": {},
   "source": [
    "## 2.选择题\n",
    "ABCD"
   ]
  },
  {
   "cell_type": "markdown",
   "metadata": {},
   "source": [
    "## 3.简单题\n",
    "1.小批量 2.在线 3.批量"
   ]
  },
  {
   "cell_type": "markdown",
   "metadata": {},
   "source": [
    "## 4.代码"
   ]
  },
  {
   "cell_type": "code",
   "execution_count": 2,
   "metadata": {},
   "outputs": [],
   "source": [
    "def model(X, W, b):\n",
    "    '''模型\n",
    "\n",
    "    Args:\n",
    "        X: 模型输入向量\n",
    "        W: 模型连接权重向量\n",
    "        b: 模型的偏置值\n",
    "\n",
    "    Return:\n",
    "        返回模型输出结果\n",
    "    '''\n",
    "    X = np.array(X)\n",
    "    \n",
    "    return np.sum(X * W) + b"
   ]
  },
  {
   "cell_type": "code",
   "execution_count": 3,
   "metadata": {},
   "outputs": [],
   "source": [
    "import itertools\n",
    "from sklearn.datasets import make_regression\n",
    "from sklearn.model_selection import train_test_split\n",
    "from sklearn.decomposition import PCA\n",
    "from matplotlib import pyplot as plt\n",
    "import numpy as np\n",
    "\n",
    "num_train = 1000\n",
    "num_test = 100\n",
    "\n",
    "#小批量数据训练\n",
    "#num_train = 100\n",
    "#num_test = 10\n",
    "\n",
    "# 制作数据集\n",
    "data = make_regression(n_samples=num_train, n_features=2)\n",
    "\n",
    "# 可视化数据集\n",
    "plt.figure(figsize=[12, 4], dpi=100)\n",
    "plt.subplot(1, 2, 1)\n",
    "plt.scatter(data[0][:, 0], data[0][:, 1], 1)\n",
    "plt.xlabel('x_1')\n",
    "plt.ylabel('x_2')\n",
    "plt.subplot(1, 2, 2)\n",
    "x = PCA(n_components=1).fit_transform(data[0])\n",
    "plt.scatter(x, data[1], 1)\n",
    "plt.xlabel('x')\n",
    "plt.ylabel('y')\n",
    "\n",
    "# 将数据集分割成为训练集与测试集\n",
    "# 并将数据集转成可迭代对象\n",
    "train_x, test_x, train_y, test_y = [itertools.cycle(i) for i in train_test_split(data[0], data[1], test_size=num_test)]"
   ]
  },
  {
   "cell_type": "code",
   "execution_count": 5,
   "metadata": {},
   "outputs": [
    {
     "data": {
      "text/plain": [
       "Text(0,0.5,'losses')"
      ]
     },
     "execution_count": 5,
     "metadata": {},
     "output_type": "execute_result"
    },
    {
     "data": {
      "image/png": "[encoded data removed]",
      "text/plain": [
       "<Figure size 800x300 with 1 Axes>"
      ]
     },
     "metadata": {},
     "output_type": "display_data"
    }
   ],
   "source": [
    "from sklearn.metrics import mean_squared_error as mse\n",
    "\n",
    "\n",
    "train_steps = 2000    # 训练次数\n",
    "lr =0.01                    # 学习率\n",
    "summary_step = 20   # 摘要频率 \n",
    "summary = []            # 摘要\n",
    "tmp_grad_w = 0\n",
    "tmp_grad_b = 0\n",
    "\n",
    "W = np.random.randn(2)  # 初始化连接权重\n",
    "b = 0                             # 初始化偏置值\n",
    "for i in range(train_steps):\n",
    "    # 摘要\n",
    "    if i % summary_step == 0:\n",
    "        tmp = []\n",
    "        for j in range(num_test):\n",
    "            X = next(test_x)\n",
    "            label = next(test_y)\n",
    "            out = model(X, W, b)\n",
    "            tmp.append(np.array([label, out]))\n",
    "            \n",
    "        tmp = np.array(tmp)\n",
    "        # 计算均方误差代价\n",
    "        loss = mse(tmp[:, 0], tmp[:, 1])\n",
    "        summary.append(np.array([i + 1, loss]))\n",
    "\n",
    "    # 获得一个样本，并输入模型得到模型输出结果\n",
    "    X = next(train_x)\n",
    "    label = next(train_y)\n",
    "    out = model(X, W, b)\n",
    "    \n",
    "    # 计算偏导数并更新模型参数\n",
    "    dW = -X * (label - out)\n",
    "    db = -1 * (label - out)\n",
    "    \n",
    "    tmp_grad_w += dW\n",
    "    tmp_grad_b += db\n",
    "    if i%32 == 31:    \n",
    "        W = W - lr * tmp_grad_w/32.\n",
    "        b = b - lr * tmp_grad_b/32.\n",
    "        \n",
    "        tmp_grad_w = 0\n",
    "        tmp_grad_b = 0\n",
    "# 可视化摘要\n",
    "summary = np.array(summary)    \n",
    "plt.figure(figsize=[8, 3], dpi=100)\n",
    "plt.plot(summary[:, 0], summary[:, 1])\n",
    "plt.xlabel('step')\n",
    "plt.ylabel('losses')"
   ]
  },
  {
   "cell_type": "markdown",
   "metadata": {},
   "source": [
    "当LMS算法改为使用小批量数据训练时，收敛速度明显加快"
   ]
  },
  {
   "cell_type": "code",
   "execution_count": null,
   "metadata": {},
   "outputs": [],
   "source": []
  }
 ],
 "metadata": {
  "kernelspec": {
   "display_name": "Python 3",
   "language": "python",
   "name": "python3"
  },
  "language_info": {
   "codemirror_mode": {
    "name": "ipython",
    "version": 3
   },
   "file_extension": ".py",
   "mimetype": "text/x-python",
   "name": "python",
   "nbconvert_exporter": "python",
   "pygments_lexer": "ipython3",
   "version": "3.5.5"
  }
 },
 "nbformat": 4,
 "nbformat_minor": 2
}
