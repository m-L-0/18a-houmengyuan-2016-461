{
 "cells": [
  {
   "cell_type": "markdown",
   "metadata": {},
   "source": [
    "波士顿房价预测"
   ]
  },
  {
   "cell_type": "code",
   "execution_count": null,
   "metadata": {},
   "outputs": [],
   "source": [
    "import numpy as np\n",
    "import tensorflow as tf"
   ]
  },
  {
   "cell_type": "code",
   "execution_count": null,
   "metadata": {},
   "outputs": [],
   "source": [
    "(train_data, train_label), (test_data, test_label) =\\\n",
    "    tf.keras.datasets.boston_housing.load_data()"
   ]
  },
  {
   "cell_type": "code",
   "execution_count": null,
   "metadata": {},
   "outputs": [],
   "source": [
    "train_data.shape"
   ]
  },
  {
   "cell_type": "code",
   "execution_count": null,
   "metadata": {},
   "outputs": [],
   "source": [
    "train_label.shape"
   ]
  },
  {
   "cell_type": "code",
   "execution_count": null,
   "metadata": {},
   "outputs": [],
   "source": [
    "with tf.Graph().as_default() as g:\n",
    "    inputs = tf.placeholder(shape=[None, 13], dtype=tf.float32)\n",
    "    labels = tf.placeholder(shape=[None], dtype=tf.float32)\n",
    "    \n",
    "    h1 = tf.keras.layers.Dense(64, activation=tf.nn.relu)(inputs)\n",
    "    h2 = tf.keras.layers.Dense(16, activation=tf.nn.relu)(h1)\n",
    "    output = tf.keras.layers.Dense(1, activation=None)(h2)\n",
    "    \n",
    "    loss = tf.reduce_mean(\n",
    "        tf.keras.losses.mean_squared_error(labels, output))\n",
    "    \n",
    "    optim = tf.train.GradientDescentOptimizer(learning_rate=1e-6)\n",
    "    train_op = optim.minimize(loss)\n",
    "\n",
    "with tf.Session(graph=g) as sess:\n",
    "    sess.run(tf.global_variables_initializer())\n",
    "    batch_size= 32\n",
    "    for epoch in range(200):\n",
    "        order = np.argsort(np.random.random(train_label.shape))\n",
    "        train_data = train_data[order]\n",
    "        train_label = train_label[order]\n",
    "        \n",
    "        res_train_losses = []\n",
    "        for i in range(train_label.shape[0] // batch_size):\n",
    "            start = i * batch_size\n",
    "            end = (i + 1) * batch_size\n",
    "            res_train_loss, _ = sess.run([loss, train_op],\n",
    "                     feed_dict={inputs: train_data[start: end],\n",
    "                                labels: train_label[start: end]})\n",
    "            res_train_losses.append(res_train_loss)\n",
    "        res_val_loss = sess.run(loss,\n",
    "                 feed_dict={inputs: test_data,\n",
    "                            labels: test_label})\n",
    "        print('epoch %3d, train loss %2.4f, val loss %2.4f' %\n",
    "              (epoch, res_train_loss, np.mean(res_train_losses)))"
   ]
  }
 ],
 "metadata": {
  "kernelspec": {
   "display_name": "Python 3",
   "language": "python",
   "name": "python3"
  },
  "language_info": {
   "codemirror_mode": {
    "name": "ipython",
    "version": 3
   },
   "file_extension": ".py",
   "mimetype": "text/x-python",
   "name": "python",
   "nbconvert_exporter": "python",
   "pygments_lexer": "ipython3",
   "version": "3.5.5"
  }
 },
 "nbformat": 4,
 "nbformat_minor": 2
}
